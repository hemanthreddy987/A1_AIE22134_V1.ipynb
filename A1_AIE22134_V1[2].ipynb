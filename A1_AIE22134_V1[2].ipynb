{
  "cells": [
    {
      "cell_type": "code",
      "execution_count": 2,
      "metadata": {
        "colab": {
          "base_uri": "https://localhost:8080/"
        },
        "id": "WDNxlEiKwJSs",
        "outputId": "6986c7de-84bf-435d-bb7c-375317c93b6a"
      },
      "outputs": [
        {
          "name": "stdout",
          "output_type": "stream",
          "text": [
            "Number of vowels: 4\n",
            "Number of consonants: 3\n"
          ]
        }
      ],
      "source": [
        "#Q1:Write a program to count the number of vowels and consonants present in an input string.\n",
        "\n",
        "def count_vowels_consonants(input_str):\n",
        "    vowels = \"aeiouAEIOU\"\n",
        "    count_vowels = 0\n",
        "    count_consonants = 0\n",
        "\n",
        "    for char in input_str:\n",
        "        if char.isalpha():\n",
        "            if char in vowels:\n",
        "                count_vowels += 1\n",
        "            else:\n",
        "                count_consonants += 1\n",
        "\n",
        "    print(\"Number of vowels:\", count_vowels)\n",
        "    print(\"Number of consonants:\", count_consonants)\n",
        "\n",
        "# Example Usage:\n",
        "input_string = input(\"Enter a string: \")\n",
        "count_vowels_consonants(input_string)\n"
      ]
    },
    {
      "cell_type": "code",
      "execution_count": 3,
      "metadata": {},
      "outputs": [
        {
          "name": "stdout",
          "output_type": "stream",
          "text": [
            "Matrix Product (AB): [[58, 64], [139, 154]]\n"
          ]
        }
      ],
      "source": [
        "#2.Write a program that accepts two matrices A and Bas input and returns their product AB.Check if A & B aremultipliable; if not, return error message.\n",
        "def matrix_multiply(A, B):\n",
        "    if len(A[0]) != len(B):\n",
        "        print(\"Matrices are not multipliable. Please provide valid matrices.\")\n",
        "        return\n",
        "\n",
        "    result = [[0] * len(B[0]) for _ in range(len(A))]\n",
        "\n",
        "    for i in range(len(A)):\n",
        "        for j in range(len(B[0])):\n",
        "            for k in range(len(B)):\n",
        "                result[i][j] += A[i][k] * B[k][j]\n",
        "\n",
        "    return result\n",
        "\n",
        "# Example Usage:\n",
        "A = [[1, 2, 3], [4, 5, 6]]\n",
        "B = [[7, 8], [9, 10], [11, 12]]\n",
        "result = matrix_multiply(A, B)\n",
        "\n",
        "if result:\n",
        "    print(\"Matrix Product (AB):\", result)\n"
      ]
    },
    {
      "cell_type": "code",
      "execution_count": 4,
      "metadata": {
        "colab": {
          "base_uri": "https://localhost:8080/"
        },
        "id": "WEX0-R8H2RCy",
        "outputId": "578cd3e7-0fbf-41d6-d8ed-ad1e5618e490"
      },
      "outputs": [
        {
          "name": "stdout",
          "output_type": "stream",
          "text": [
            "Common Elements: [3, 4, 5]\n"
          ]
        }
      ],
      "source": [
        "#Q3:Write a program to find the number of common elements between two lists. The lists contain integers\n",
        "def common_elements(list1, list2):\n",
        "    common_elements_set = set(list1) & set(list2)\n",
        "    return list(common_elements_set)\n",
        "\n",
        "# Example Usage:\n",
        "list1 = [1, 2, 3, 4, 5]\n",
        "list2 = [3, 4, 5, 6, 7]\n",
        "common_elements_list = common_elements(list1, list2)\n",
        "print(\"Common Elements:\", common_elements_list)\n"
      ]
    },
    {
      "cell_type": "code",
      "execution_count": 5,
      "metadata": {
        "colab": {
          "base_uri": "https://localhost:8080/"
        },
        "id": "3EFr8Y6y2TkT",
        "outputId": "98233ea2-b91b-44da-96d7-45ac76b326b4"
      },
      "outputs": [
        {
          "name": "stdout",
          "output_type": "stream",
          "text": [
            "Original Matrix: [[1, 2, 3], [4, 5, 6]]\n",
            "Transposed Matrix: [[1, 4], [2, 5], [3, 6]]\n"
          ]
        }
      ],
      "source": [
        "#Q4:Write a program that accepts a matrix as input and returns its transpose.\n",
        "def transpose_matrix(matrix):\n",
        "    return [[matrix[j][i] for j in range(len(matrix))] for i in range(len(matrix[0]))]\n",
        "\n",
        "# Example Usage:\n",
        "matrix_input = [[1, 2, 3], [4, 5, 6]]\n",
        "transposed_matrix = transpose_matrix(matrix_input)\n",
        "print(\"Original Matrix:\", matrix_input)\n",
        "print(\"Transposed Matrix:\", transposed_matrix)\n",
        "\n"
      ]
    }
  ],
  "metadata": {
    "colab": {
      "provenance": []
    },
    "kernelspec": {
      "display_name": "Python 3",
      "name": "python3"
    },
    "language_info": {
      "codemirror_mode": {
        "name": "ipython",
        "version": 3
      },
      "file_extension": ".py",
      "mimetype": "text/x-python",
      "name": "python",
      "nbconvert_exporter": "python",
      "pygments_lexer": "ipython3",
      "version": "3.10.11"
    }
  },
  "nbformat": 4,
  "nbformat_minor": 0
}
