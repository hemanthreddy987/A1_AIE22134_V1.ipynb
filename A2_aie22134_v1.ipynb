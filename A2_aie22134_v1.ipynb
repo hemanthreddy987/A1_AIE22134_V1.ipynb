{
 "cells": [
  {
   "cell_type": "code",
   "execution_count": 1,
   "id": "9ea0c8c7-0bd8-437d-a545-d35820f414b8",
   "metadata": {},
   "outputs": [
    {
     "name": "stdin",
     "output_type": "stream",
     "text": [
      "enter the first vector:  1 2 3 4 5 6\n",
      "enter the first vector:  4 5 6 7 8 9\n"
     ]
    },
    {
     "name": "stdout",
     "output_type": "stream",
     "text": [
      "euclidean distance: 7.3484692283495345\n",
      "Manhattan distance: 18\n"
     ]
    }
   ],
   "source": [
    "import math\n",
    "def euc_distance(vec1,vec2):\n",
    "    distance=0\n",
    "    for i in range(len(vec1)):\n",
    "        distance += (vec1[i] - vec2[i]) ** 2\n",
    "    return math.sqrt(distance)\n",
    "\n",
    "def manhattan_distance(vec1,vec2):\n",
    "    distance=0\n",
    "    for i in range(len(vec1)):\n",
    "        distance +=abs(vec1[i] - vec2[i])\n",
    "    return distance\n",
    "\n",
    "def main():\n",
    "    vec1=input(\"enter the first vector: \").split()\n",
    "    vec1=[int(x) for x in vec1]\n",
    "\n",
    "    vec2=input(\"enter the first vector: \").split()\n",
    "    vec2=[int(x) for x in vec2]\n",
    "\n",
    "    euclidean=euc_distance(vec1,vec2)\n",
    "    manhattan=manhattan_distance(vec1,vec2)\n",
    "\n",
    "    print(\"euclidean distance:\",euclidean)\n",
    "    print(\"Manhattan distance:\",manhattan)\n",
    "\n",
    "if __name__==\"__main__\":\n",
    "    main()\n",
    "        \n"
   ]
  },
  {
   "cell_type": "code",
   "execution_count": 2,
   "id": "094ddead-17c0-4a0d-a08e-515c4afe5e1d",
   "metadata": {},
   "outputs": [
    {
     "name": "stdin",
     "output_type": "stream",
     "text": [
      "Enter the number of training instances:  3\n",
      "Enter features (comma-separated values):  1.0,2.0\n",
      "Enter the label for this instance:  A\n",
      "Enter features (comma-separated values):  3.0,4.0\n",
      "Enter the label for this instance:  B\n",
      "Enter features (comma-separated values):  1.5,2.5\n",
      "Enter the label for this instance:  C\n",
      "Enter test instance features (comma-separated values):  6.8,9.0\n",
      "Enter the value of k:  2\n"
     ]
    },
    {
     "name": "stdout",
     "output_type": "stream",
     "text": [
      "The predicted label for the test instance is: B\n"
     ]
    }
   ],
   "source": [
    "from collections import Counter\n",
    "\n",
    "def euclidean_distance(vector1, vector2):\n",
    "    return sum((v1 - v2) ** 2 for v1, v2 in zip(vector1, vector2)) ** 0.5\n",
    "\n",
    "def k_nearest_neighbors(training_data, test_instance, k=3):\n",
    "    distances = [(euclidean_distance(test_instance, training_instance[0]), training_instance[1]) for training_instance in training_data]\n",
    "    sorted_distances = sorted(distances, key=lambda x: x[0])\n",
    "    k_nearest_labels = [label for _, label in sorted_distances[:k]]\n",
    "    most_common_label = Counter(k_nearest_labels).most_common(1)[0][0]\n",
    "    return most_common_label\n",
    "\n",
    "# User input for training data\n",
    "training_data = []\n",
    "num_train_instances = int(input(\"Enter the number of training instances: \"))\n",
    "\n",
    "for _ in range(num_train_instances):\n",
    "    features = [float(x) for x in input(\"Enter features (comma-separated values): \").split(',')]\n",
    "    label = input(\"Enter the label for this instance: \")\n",
    "    training_data.append((features, label))\n",
    "\n",
    "# User input for test instance\n",
    "test_instance = [float(x) for x in input(\"Enter test instance features (comma-separated values): \").split(',')]\n",
    "\n",
    "# User input for k\n",
    "k_value = int(input(\"Enter the value of k: \"))\n",
    "\n",
    "# Perform k-NN classification\n",
    "predicted_label = k_nearest_neighbors(training_data, test_instance, k=k_value)\n",
    "\n",
    "# Print the result\n",
    "print(f\"The predicted label for the test instance is: {predicted_label}\")"
   ]
  },
  {
   "cell_type": "code",
   "execution_count": 2,
   "id": "a560d469-1a00-4402-80dd-cc21901fa67e",
   "metadata": {},
   "outputs": [
    {
     "name": "stdin",
     "output_type": "stream",
     "text": [
      "enter the categorical data using commas:  cat, dog, cat, bird, dog, fish\n"
     ]
    },
    {
     "name": "stdout",
     "output_type": "stream",
     "text": [
      "Numarical data:  [0, 1, 2, 3, 1, 4]\n"
     ]
    }
   ],
   "source": [
    "def encoding():\n",
    "    categorical_data=input(\"enter the categorical data using commas: \")\n",
    "    categorical_list=categorical_data.split(',')\n",
    "\n",
    "    label_encoding={}\n",
    "    label_counter=0\n",
    "\n",
    "    for category in categorical_list:\n",
    "        if category not in label_encoding:\n",
    "            label_encoding[category]=label_counter\n",
    "            label_counter += 1\n",
    "\n",
    "    numerical_data=[label_encoding[category] for category in categorical_list]\n",
    "    return numerical_data\n",
    "\n",
    "if __name__==\"__main__\":\n",
    "    numerical_data=encoding()\n",
    "\n",
    "    print(\"Numarical data: \",numerical_data)\n"
   ]
  },
  {
   "cell_type": "code",
   "execution_count": 3,
   "id": "c2133d87-7e50-4898-b672-302619a1082f",
   "metadata": {},
   "outputs": [
    {
     "name": "stdin",
     "output_type": "stream",
     "text": [
      "enter categorical data seperated by commas:  apple, banana, apple, orange, banana, grape\n"
     ]
    },
    {
     "name": "stdout",
     "output_type": "stream",
     "text": [
      "One hot encoded data:\n",
      "[1, 0, 0, 0, 0]\n",
      "[0, 0, 1, 0, 0]\n",
      "[0, 1, 0, 0, 0]\n",
      "[0, 0, 0, 0, 1]\n",
      "[0, 0, 1, 0, 0]\n",
      "[0, 0, 0, 1, 0]\n"
     ]
    }
   ],
   "source": [
    "def categorical_data_input():\n",
    "    categorical_data=input(\"enter categorical data seperated by commas: \")\n",
    "    return categorical_data\n",
    "\n",
    "def onehot_encoding(categorical_data):\n",
    "    categories=categorical_data.split(',')\n",
    "    unique_categories=list(set(categories))\n",
    "    onehot_encoding_data=[]\n",
    "\n",
    "    for category in categories:\n",
    "        encoding=[0]*len(unique_categories)\n",
    "        index=unique_categories.index(category)\n",
    "        encoding[index]=1\n",
    "        onehot_encoding_data.append(encoding)\n",
    "\n",
    "    return onehot_encoding_data\n",
    "\n",
    "if __name__==\"__main__\":\n",
    "    categorical_data=categorical_data_input()\n",
    "    onehot_encoding_data=onehot_encoding(categorical_data)\n",
    "\n",
    "    print(\"One hot encoded data:\")\n",
    "    for encoding in onehot_encoding_data:\n",
    "        print(encoding)\n"
   ]
  },
  {
   "cell_type": "code",
   "execution_count": null,
   "id": "58a31a2e-3ba3-483a-98a2-69a19feccac9",
   "metadata": {},
   "outputs": [],
   "source": []
  }
 ],
 "metadata": {
  "kernelspec": {
   "display_name": "Python 3 (ipykernel)",
   "language": "python",
   "name": "python3"
  },
  "language_info": {
   "codemirror_mode": {
    "name": "ipython",
    "version": 3
   },
   "file_extension": ".py",
   "mimetype": "text/x-python",
   "name": "python",
   "nbconvert_exporter": "python",
   "pygments_lexer": "ipython3",
   "version": "3.11.4"
  }
 },
 "nbformat": 4,
 "nbformat_minor": 5
}
